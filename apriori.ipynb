{
 "cells": [
  {
   "cell_type": "code",
   "execution_count": 149,
   "metadata": {},
   "outputs": [],
   "source": [
    "# TITLE: Analysis of Obesity Levels Using the Apriori Algorithm\n",
    "# \n",
    "# NAME: Tim",
    "# DATE: Dec 9 2020\n",
    "# \n",
    "#"
   ]
  },
  {
   "cell_type": "code",
   "execution_count": 150,
   "metadata": {},
   "outputs": [],
   "source": [
    "import pandas as pd\n",
    "\n",
    "df = pd.read_csv('ObesityDataSet_raw_and_data_sinthetic.csv')\n"
   ]
  },
  {
   "cell_type": "code",
   "execution_count": 151,
   "metadata": {},
   "outputs": [],
   "source": [
    "import pandas as pd\n",
    "import numpy as np\n",
    "import matplotlib as mpl\n",
    "import matplotlib.pyplot as plt\n",
    "#import seaborn as sns\n",
    "\n",
    "from sklearn.preprocessing import scale\n",
    "\n",
    "%matplotlib inline\n",
    "plt.style.use('seaborn-white')"
   ]
  },
  {
   "cell_type": "code",
   "execution_count": 152,
   "metadata": {},
   "outputs": [
    {
     "data": {
      "text/html": [
       "<div>\n",
       "<style scoped>\n",
       "    .dataframe tbody tr th:only-of-type {\n",
       "        vertical-align: middle;\n",
       "    }\n",
       "\n",
       "    .dataframe tbody tr th {\n",
       "        vertical-align: top;\n",
       "    }\n",
       "\n",
       "    .dataframe thead th {\n",
       "        text-align: right;\n",
       "    }\n",
       "</style>\n",
       "<table border=\"1\" class=\"dataframe\">\n",
       "  <thead>\n",
       "    <tr style=\"text-align: right;\">\n",
       "      <th></th>\n",
       "      <th>Gender</th>\n",
       "      <th>Age</th>\n",
       "      <th>Height</th>\n",
       "      <th>Weight</th>\n",
       "      <th>family_history_with_overweight</th>\n",
       "      <th>FAVC</th>\n",
       "      <th>FCVC</th>\n",
       "      <th>NCP</th>\n",
       "      <th>CAEC</th>\n",
       "      <th>SMOKE</th>\n",
       "      <th>CH2O</th>\n",
       "      <th>SCC</th>\n",
       "      <th>FAF</th>\n",
       "      <th>TUE</th>\n",
       "      <th>CALC</th>\n",
       "      <th>MTRANS</th>\n",
       "      <th>NObeyesdad</th>\n",
       "    </tr>\n",
       "  </thead>\n",
       "  <tbody>\n",
       "    <tr>\n",
       "      <th>0</th>\n",
       "      <td>Female</td>\n",
       "      <td>21.0</td>\n",
       "      <td>1.62</td>\n",
       "      <td>64.0</td>\n",
       "      <td>yes</td>\n",
       "      <td>no</td>\n",
       "      <td>2.0</td>\n",
       "      <td>3.0</td>\n",
       "      <td>Sometimes</td>\n",
       "      <td>no</td>\n",
       "      <td>2.0</td>\n",
       "      <td>no</td>\n",
       "      <td>0.0</td>\n",
       "      <td>1.0</td>\n",
       "      <td>no</td>\n",
       "      <td>Public_Transportation</td>\n",
       "      <td>Normal_Weight</td>\n",
       "    </tr>\n",
       "    <tr>\n",
       "      <th>1</th>\n",
       "      <td>Female</td>\n",
       "      <td>21.0</td>\n",
       "      <td>1.52</td>\n",
       "      <td>56.0</td>\n",
       "      <td>yes</td>\n",
       "      <td>no</td>\n",
       "      <td>3.0</td>\n",
       "      <td>3.0</td>\n",
       "      <td>Sometimes</td>\n",
       "      <td>yes</td>\n",
       "      <td>3.0</td>\n",
       "      <td>yes</td>\n",
       "      <td>3.0</td>\n",
       "      <td>0.0</td>\n",
       "      <td>Sometimes</td>\n",
       "      <td>Public_Transportation</td>\n",
       "      <td>Normal_Weight</td>\n",
       "    </tr>\n",
       "    <tr>\n",
       "      <th>2</th>\n",
       "      <td>Male</td>\n",
       "      <td>23.0</td>\n",
       "      <td>1.80</td>\n",
       "      <td>77.0</td>\n",
       "      <td>yes</td>\n",
       "      <td>no</td>\n",
       "      <td>2.0</td>\n",
       "      <td>3.0</td>\n",
       "      <td>Sometimes</td>\n",
       "      <td>no</td>\n",
       "      <td>2.0</td>\n",
       "      <td>no</td>\n",
       "      <td>2.0</td>\n",
       "      <td>1.0</td>\n",
       "      <td>Frequently</td>\n",
       "      <td>Public_Transportation</td>\n",
       "      <td>Normal_Weight</td>\n",
       "    </tr>\n",
       "    <tr>\n",
       "      <th>3</th>\n",
       "      <td>Male</td>\n",
       "      <td>27.0</td>\n",
       "      <td>1.80</td>\n",
       "      <td>87.0</td>\n",
       "      <td>no</td>\n",
       "      <td>no</td>\n",
       "      <td>3.0</td>\n",
       "      <td>3.0</td>\n",
       "      <td>Sometimes</td>\n",
       "      <td>no</td>\n",
       "      <td>2.0</td>\n",
       "      <td>no</td>\n",
       "      <td>2.0</td>\n",
       "      <td>0.0</td>\n",
       "      <td>Frequently</td>\n",
       "      <td>Walking</td>\n",
       "      <td>Overweight_Level_I</td>\n",
       "    </tr>\n",
       "    <tr>\n",
       "      <th>4</th>\n",
       "      <td>Male</td>\n",
       "      <td>22.0</td>\n",
       "      <td>1.78</td>\n",
       "      <td>89.8</td>\n",
       "      <td>no</td>\n",
       "      <td>no</td>\n",
       "      <td>2.0</td>\n",
       "      <td>1.0</td>\n",
       "      <td>Sometimes</td>\n",
       "      <td>no</td>\n",
       "      <td>2.0</td>\n",
       "      <td>no</td>\n",
       "      <td>0.0</td>\n",
       "      <td>0.0</td>\n",
       "      <td>Sometimes</td>\n",
       "      <td>Public_Transportation</td>\n",
       "      <td>Overweight_Level_II</td>\n",
       "    </tr>\n",
       "  </tbody>\n",
       "</table>\n",
       "</div>"
      ],
      "text/plain": [
       "   Gender   Age  Height  Weight family_history_with_overweight FAVC  FCVC  \\\n",
       "0  Female  21.0    1.62    64.0                            yes   no   2.0   \n",
       "1  Female  21.0    1.52    56.0                            yes   no   3.0   \n",
       "2    Male  23.0    1.80    77.0                            yes   no   2.0   \n",
       "3    Male  27.0    1.80    87.0                             no   no   3.0   \n",
       "4    Male  22.0    1.78    89.8                             no   no   2.0   \n",
       "\n",
       "   NCP       CAEC SMOKE  CH2O  SCC  FAF  TUE        CALC  \\\n",
       "0  3.0  Sometimes    no   2.0   no  0.0  1.0          no   \n",
       "1  3.0  Sometimes   yes   3.0  yes  3.0  0.0   Sometimes   \n",
       "2  3.0  Sometimes    no   2.0   no  2.0  1.0  Frequently   \n",
       "3  3.0  Sometimes    no   2.0   no  2.0  0.0  Frequently   \n",
       "4  1.0  Sometimes    no   2.0   no  0.0  0.0   Sometimes   \n",
       "\n",
       "                  MTRANS           NObeyesdad  \n",
       "0  Public_Transportation        Normal_Weight  \n",
       "1  Public_Transportation        Normal_Weight  \n",
       "2  Public_Transportation        Normal_Weight  \n",
       "3                Walking   Overweight_Level_I  \n",
       "4  Public_Transportation  Overweight_Level_II  "
      ]
     },
     "execution_count": 152,
     "metadata": {},
     "output_type": "execute_result"
    }
   ],
   "source": [
    "df.head()"
   ]
  },
  {
   "cell_type": "code",
   "execution_count": 153,
   "metadata": {},
   "outputs": [],
   "source": [
    "# Plotting two variables against each other"
   ]
  },
  {
   "cell_type": "code",
   "execution_count": 154,
   "metadata": {},
   "outputs": [
    {
     "data": {
      "image/png": "[encoded data removed]",
      "text/plain": [
       "<Figure size 432x288 with 1 Axes>"
      ]
     },
     "metadata": {},
     "output_type": "display_data"
    }
   ],
   "source": [
    "plt.figure()\n",
    "plt.scatter(df['SMOKE'], df['Weight'])\n",
    "plt.xlabel('Smoker (Boolean)')\n",
    "plt.ylabel('Weight (kg)')\n",
    "plt.show()"
   ]
  },
  {
   "cell_type": "code",
   "execution_count": 155,
   "metadata": {},
   "outputs": [],
   "source": [
    "# From the graph above, it appears that smokers are more likely to have a lower weight than non-smokers.\n",
    "# Thus, smokers are less likely to be overweight."
   ]
  },
  {
   "cell_type": "code",
   "execution_count": 156,
   "metadata": {},
   "outputs": [
    {
     "data": {
      "image/png": "[encoded data removed]",
      "text/plain": [
       "<Figure size 432x288 with 1 Axes>"
      ]
     },
     "metadata": {},
     "output_type": "display_data"
    }
   ],
   "source": [
    "plt.figure()\n",
    "plt.scatter(df['family_history_with_overweight'], df['Weight'])\n",
    "plt.xlabel('Has Overweight People in Family History ')\n",
    "plt.ylabel('Weight (kg)')\n",
    "plt.show()"
   ]
  },
  {
   "cell_type": "code",
   "execution_count": 157,
   "metadata": {},
   "outputs": [],
   "source": [
    "# This graph is evidence that people who have overweight people in their\n",
    "# family history are more likely to be overweight."
   ]
  },
  {
   "cell_type": "code",
   "execution_count": 158,
   "metadata": {},
   "outputs": [
    {
     "data": {
      "image/png": "[encoded data removed]",
      "text/plain": [
       "<Figure size 432x288 with 1 Axes>"
      ]
     },
     "metadata": {},
     "output_type": "display_data"
    }
   ],
   "source": [
    "plt.figure()\n",
    "plt.scatter(df['MTRANS'], df['Weight'])\n",
    "plt.xlabel('Method of Transportation')\n",
    "plt.ylabel('Weight (kg)')\n",
    "plt.show()"
   ]
  },
  {
   "cell_type": "code",
   "execution_count": 159,
   "metadata": {},
   "outputs": [],
   "source": [
    "# people that use public transport or an automobile are more likely\n",
    "# to be overweight.  People that bike or walk are more likely\n",
    "# not to be overweight."
   ]
  },
  {
   "cell_type": "code",
   "execution_count": 160,
   "metadata": {},
   "outputs": [
    {
     "data": {
      "image/png": "[encoded data removed]",
      "text/plain": [
       "<Figure size 432x288 with 1 Axes>"
      ]
     },
     "metadata": {},
     "output_type": "display_data"
    }
   ],
   "source": [
    "plt.figure()\n",
    "plt.scatter(df['FAVC'], df['Weight'])\n",
    "plt.xlabel('Eat high caloric food often (Boolean)')\n",
    "plt.ylabel('Weight (kg)')\n",
    "plt.show()"
   ]
  },
  {
   "cell_type": "code",
   "execution_count": 161,
   "metadata": {},
   "outputs": [],
   "source": [
    "# people that consume high calorie food are more likely to be overweight"
   ]
  },
  {
   "cell_type": "code",
   "execution_count": 162,
   "metadata": {},
   "outputs": [
    {
     "data": {
      "image/png": "[encoded data removed]",
      "text/plain": [
       "<Figure size 432x288 with 1 Axes>"
      ]
     },
     "metadata": {},
     "output_type": "display_data"
    }
   ],
   "source": [
    "plt.figure()\n",
    "plt.scatter(df['SCC'], df['Weight'])\n",
    "plt.xlabel('Keeps track of calories (Boolean)')\n",
    "plt.ylabel('Weight (kg)')\n",
    "plt.show()"
   ]
  },
  {
   "cell_type": "code",
   "execution_count": 163,
   "metadata": {},
   "outputs": [],
   "source": [
    "# people that keep track of calories are less likely to be overweight"
   ]
  },
  {
   "cell_type": "code",
   "execution_count": 164,
   "metadata": {},
   "outputs": [
    {
     "data": {
      "image/png": "[encoded data removed]",
      "text/plain": [
       "<Figure size 432x288 with 1 Axes>"
      ]
     },
     "metadata": {},
     "output_type": "display_data"
    }
   ],
   "source": [
    "plt.figure()\n",
    "plt.scatter(df['CAEC'], df['Weight'])\n",
    "plt.xlabel('Whether people eat between meals')\n",
    "plt.ylabel('Weight (kg)')\n",
    "plt.show()"
   ]
  },
  {
   "cell_type": "code",
   "execution_count": 165,
   "metadata": {},
   "outputs": [],
   "source": [
    "# people that eat between meals are more likely to be overweight"
   ]
  },
  {
   "cell_type": "code",
   "execution_count": 166,
   "metadata": {},
   "outputs": [
    {
     "data": {
      "text/plain": [
       "'\\nMODIFY DOMAINS FOR APRIORI\\n\\nWe will modify domains so the data can be used with the\\nApriori algorithm.\\n'"
      ]
     },
     "execution_count": 166,
     "metadata": {},
     "output_type": "execute_result"
    }
   ],
   "source": [
    "'''\n",
    "MODIFY DOMAINS FOR APRIORI\n",
    "\n",
    "We will modify domains so the data can be used with the\n",
    "Apriori algorithm.\n",
    "'''"
   ]
  },
  {
   "cell_type": "code",
   "execution_count": 167,
   "metadata": {},
   "outputs": [],
   "source": [
    "# get the column index of an attribute\n",
    "def getColIndex(name):\n",
    "    for i in range(df.shape[1]):\n",
    "        if df.columns[i] == name:\n",
    "            return i\n",
    "    return 'none'"
   ]
  },
  {
   "cell_type": "code",
   "execution_count": 168,
   "metadata": {},
   "outputs": [],
   "source": [
    "# modify family_history_with_overweight domain \n",
    "\n",
    "for i in range(df.shape[0]):\n",
    "    x = getColIndex('family_history_with_overweight')\n",
    "    if df.iloc[i,x] == 'yes':\n",
    "        df.iloc[i,x] = 'fh_y'\n",
    "    else:\n",
    "        df.iloc[i,x] = 'fh_n'"
   ]
  },
  {
   "cell_type": "code",
   "execution_count": 169,
   "metadata": {},
   "outputs": [],
   "source": [
    "# modify FAVC domain\n",
    "\n",
    "for i in range(df.shape[0]):\n",
    "    x = getColIndex('FAVC')\n",
    "    if df.iloc[i,x] == 'yes':\n",
    "        df.iloc[i,x] = 'fa_y'\n",
    "    else:\n",
    "        df.iloc[i,x] = 'fa_n'"
   ]
  },
  {
   "cell_type": "code",
   "execution_count": 170,
   "metadata": {},
   "outputs": [],
   "source": [
    "# modify SMOKE domain\n",
    "\n",
    "for i in range(df.shape[0]):\n",
    "    x = getColIndex('SMOKE')\n",
    "    if df.iloc[i,x] == 'yes':\n",
    "        df.iloc[i,x] = 'sm_y'\n",
    "    else:\n",
    "        df.iloc[i,x] = 'sm_n'"
   ]
  },
  {
   "cell_type": "code",
   "execution_count": 171,
   "metadata": {},
   "outputs": [],
   "source": [
    "# modify SCC domain\n",
    "\n",
    "for i in range(df.shape[0]):\n",
    "    x = getColIndex('SCC')\n",
    "    if df.iloc[i,x] == 'yes':\n",
    "        df.iloc[i,x] = 'sc_y'\n",
    "    else:\n",
    "        df.iloc[i,x] = 'sc_n'"
   ]
  },
  {
   "cell_type": "code",
   "execution_count": 172,
   "metadata": {},
   "outputs": [],
   "source": [
    "# modify CAEC domain\n",
    "\n",
    "for i in range(df.shape[0]):\n",
    "    x = getColIndex('CAEC')\n",
    "    if df.iloc[i,x] == 'no':\n",
    "        df.iloc[i,x] = 'cae_no'\n",
    "    elif df.iloc[i,x] == 'Sometimes':\n",
    "        df.iloc[i,x] = 'cae_so'\n",
    "    elif df.iloc[i,x] == 'Frequently':\n",
    "        df.iloc[i,x] = 'cae_fr'\n",
    "    else:\n",
    "        df.iloc[i,x] = 'cae_al'\n",
    "        "
   ]
  },
  {
   "cell_type": "code",
   "execution_count": 173,
   "metadata": {},
   "outputs": [],
   "source": [
    "# modify MTRANS domain\n",
    "\n",
    "for i in range(df.shape[0]):\n",
    "    x = getColIndex('MTRANS')\n",
    "    if df.iloc[i,x] == 'Automobile':\n",
    "        df.iloc[i,x] = 'au'\n",
    "    elif df.iloc[i,x] == 'Motorbike':\n",
    "        df.iloc[i,x] = 'mo'\n",
    "    elif df.iloc[i,x] == 'Public_Transportation':\n",
    "        df.iloc[i,x] = 'pu'\n",
    "    elif df.iloc[i,x] == 'Walking':\n",
    "        df.iloc[i,x] = 'wa'\n",
    "    else:\n",
    "        df.iloc[i,x] = 'bi'"
   ]
  },
  {
   "cell_type": "code",
   "execution_count": 174,
   "metadata": {},
   "outputs": [],
   "source": [
    "# modify NObeyesdad domain\n",
    "# constrain domain to insufficient, normal, overweight and obese\n",
    "\n",
    "for i in range(df.shape[0]):\n",
    "    x = getColIndex('NObeyesdad')\n",
    "    if df.iloc[i,x] == 'Insufficient_Weight':\n",
    "        df.iloc[i,x] = 'ins'\n",
    "    elif df.iloc[i,x] == 'Normal_Weight':\n",
    "        df.iloc[i,x] = 'nrm'\n",
    "    elif df.iloc[i,x] == 'Overweight_Level_I':\n",
    "        df.iloc[i,x] = 'ovr'\n",
    "    elif df.iloc[i,x] == 'Overweight_Level_II':\n",
    "        df.iloc[i,x] = 'ovr'\n",
    "    else:\n",
    "        df.iloc[i,x] = 'ob'\n"
   ]
  },
  {
   "cell_type": "code",
   "execution_count": 175,
   "metadata": {},
   "outputs": [
    {
     "data": {
      "text/html": [
       "<div>\n",
       "<style scoped>\n",
       "    .dataframe tbody tr th:only-of-type {\n",
       "        vertical-align: middle;\n",
       "    }\n",
       "\n",
       "    .dataframe tbody tr th {\n",
       "        vertical-align: top;\n",
       "    }\n",
       "\n",
       "    .dataframe thead th {\n",
       "        text-align: right;\n",
       "    }\n",
       "</style>\n",
       "<table border=\"1\" class=\"dataframe\">\n",
       "  <thead>\n",
       "    <tr style=\"text-align: right;\">\n",
       "      <th></th>\n",
       "      <th>Gender</th>\n",
       "      <th>Age</th>\n",
       "      <th>Height</th>\n",
       "      <th>Weight</th>\n",
       "      <th>family_history_with_overweight</th>\n",
       "      <th>FAVC</th>\n",
       "      <th>FCVC</th>\n",
       "      <th>NCP</th>\n",
       "      <th>CAEC</th>\n",
       "      <th>SMOKE</th>\n",
       "      <th>CH2O</th>\n",
       "      <th>SCC</th>\n",
       "      <th>FAF</th>\n",
       "      <th>TUE</th>\n",
       "      <th>CALC</th>\n",
       "      <th>MTRANS</th>\n",
       "      <th>NObeyesdad</th>\n",
       "    </tr>\n",
       "  </thead>\n",
       "  <tbody>\n",
       "    <tr>\n",
       "      <th>0</th>\n",
       "      <td>Female</td>\n",
       "      <td>21.0</td>\n",
       "      <td>1.62</td>\n",
       "      <td>64.0</td>\n",
       "      <td>fh_y</td>\n",
       "      <td>fa_n</td>\n",
       "      <td>2.0</td>\n",
       "      <td>3.0</td>\n",
       "      <td>cae_so</td>\n",
       "      <td>sm_n</td>\n",
       "      <td>2.0</td>\n",
       "      <td>sc_n</td>\n",
       "      <td>0.0</td>\n",
       "      <td>1.0</td>\n",
       "      <td>no</td>\n",
       "      <td>pu</td>\n",
       "      <td>nrm</td>\n",
       "    </tr>\n",
       "    <tr>\n",
       "      <th>1</th>\n",
       "      <td>Female</td>\n",
       "      <td>21.0</td>\n",
       "      <td>1.52</td>\n",
       "      <td>56.0</td>\n",
       "      <td>fh_y</td>\n",
       "      <td>fa_n</td>\n",
       "      <td>3.0</td>\n",
       "      <td>3.0</td>\n",
       "      <td>cae_so</td>\n",
       "      <td>sm_y</td>\n",
       "      <td>3.0</td>\n",
       "      <td>sc_y</td>\n",
       "      <td>3.0</td>\n",
       "      <td>0.0</td>\n",
       "      <td>Sometimes</td>\n",
       "      <td>pu</td>\n",
       "      <td>nrm</td>\n",
       "    </tr>\n",
       "    <tr>\n",
       "      <th>2</th>\n",
       "      <td>Male</td>\n",
       "      <td>23.0</td>\n",
       "      <td>1.80</td>\n",
       "      <td>77.0</td>\n",
       "      <td>fh_y</td>\n",
       "      <td>fa_n</td>\n",
       "      <td>2.0</td>\n",
       "      <td>3.0</td>\n",
       "      <td>cae_so</td>\n",
       "      <td>sm_n</td>\n",
       "      <td>2.0</td>\n",
       "      <td>sc_n</td>\n",
       "      <td>2.0</td>\n",
       "      <td>1.0</td>\n",
       "      <td>Frequently</td>\n",
       "      <td>pu</td>\n",
       "      <td>nrm</td>\n",
       "    </tr>\n",
       "    <tr>\n",
       "      <th>3</th>\n",
       "      <td>Male</td>\n",
       "      <td>27.0</td>\n",
       "      <td>1.80</td>\n",
       "      <td>87.0</td>\n",
       "      <td>fh_n</td>\n",
       "      <td>fa_n</td>\n",
       "      <td>3.0</td>\n",
       "      <td>3.0</td>\n",
       "      <td>cae_so</td>\n",
       "      <td>sm_n</td>\n",
       "      <td>2.0</td>\n",
       "      <td>sc_n</td>\n",
       "      <td>2.0</td>\n",
       "      <td>0.0</td>\n",
       "      <td>Frequently</td>\n",
       "      <td>wa</td>\n",
       "      <td>ovr</td>\n",
       "    </tr>\n",
       "    <tr>\n",
       "      <th>4</th>\n",
       "      <td>Male</td>\n",
       "      <td>22.0</td>\n",
       "      <td>1.78</td>\n",
       "      <td>89.8</td>\n",
       "      <td>fh_n</td>\n",
       "      <td>fa_n</td>\n",
       "      <td>2.0</td>\n",
       "      <td>1.0</td>\n",
       "      <td>cae_so</td>\n",
       "      <td>sm_n</td>\n",
       "      <td>2.0</td>\n",
       "      <td>sc_n</td>\n",
       "      <td>0.0</td>\n",
       "      <td>0.0</td>\n",
       "      <td>Sometimes</td>\n",
       "      <td>pu</td>\n",
       "      <td>ovr</td>\n",
       "    </tr>\n",
       "  </tbody>\n",
       "</table>\n",
       "</div>"
      ],
      "text/plain": [
       "   Gender   Age  Height  Weight family_history_with_overweight  FAVC  FCVC  \\\n",
       "0  Female  21.0    1.62    64.0                           fh_y  fa_n   2.0   \n",
       "1  Female  21.0    1.52    56.0                           fh_y  fa_n   3.0   \n",
       "2    Male  23.0    1.80    77.0                           fh_y  fa_n   2.0   \n",
       "3    Male  27.0    1.80    87.0                           fh_n  fa_n   3.0   \n",
       "4    Male  22.0    1.78    89.8                           fh_n  fa_n   2.0   \n",
       "\n",
       "   NCP    CAEC SMOKE  CH2O   SCC  FAF  TUE        CALC MTRANS NObeyesdad  \n",
       "0  3.0  cae_so  sm_n   2.0  sc_n  0.0  1.0          no     pu        nrm  \n",
       "1  3.0  cae_so  sm_y   3.0  sc_y  3.0  0.0   Sometimes     pu        nrm  \n",
       "2  3.0  cae_so  sm_n   2.0  sc_n  2.0  1.0  Frequently     pu        nrm  \n",
       "3  3.0  cae_so  sm_n   2.0  sc_n  2.0  0.0  Frequently     wa        ovr  \n",
       "4  1.0  cae_so  sm_n   2.0  sc_n  0.0  0.0   Sometimes     pu        ovr  "
      ]
     },
     "execution_count": 175,
     "metadata": {},
     "output_type": "execute_result"
    }
   ],
   "source": [
    "df.head()"
   ]
  },
  {
   "cell_type": "code",
   "execution_count": 176,
   "metadata": {},
   "outputs": [],
   "source": [
    "# create subset of the data with only the variables we have chosen\n",
    "sbsb = df.filter(items=['family_history_with_overweight', 'FAVC', \n",
    "                      'CAEC', 'SMOKE', 'SCC', 'MTRANS', 'NObeyesdad'])"
   ]
  },
  {
   "cell_type": "code",
   "execution_count": 177,
   "metadata": {},
   "outputs": [
    {
     "data": {
      "text/html": [
       "<div>\n",
       "<style scoped>\n",
       "    .dataframe tbody tr th:only-of-type {\n",
       "        vertical-align: middle;\n",
       "    }\n",
       "\n",
       "    .dataframe tbody tr th {\n",
       "        vertical-align: top;\n",
       "    }\n",
       "\n",
       "    .dataframe thead th {\n",
       "        text-align: right;\n",
       "    }\n",
       "</style>\n",
       "<table border=\"1\" class=\"dataframe\">\n",
       "  <thead>\n",
       "    <tr style=\"text-align: right;\">\n",
       "      <th></th>\n",
       "      <th>family_history_with_overweight</th>\n",
       "      <th>FAVC</th>\n",
       "      <th>CAEC</th>\n",
       "      <th>SMOKE</th>\n",
       "      <th>SCC</th>\n",
       "      <th>MTRANS</th>\n",
       "      <th>NObeyesdad</th>\n",
       "    </tr>\n",
       "  </thead>\n",
       "  <tbody>\n",
       "    <tr>\n",
       "      <th>0</th>\n",
       "      <td>fh_y</td>\n",
       "      <td>fa_n</td>\n",
       "      <td>cae_so</td>\n",
       "      <td>sm_n</td>\n",
       "      <td>sc_n</td>\n",
       "      <td>pu</td>\n",
       "      <td>nrm</td>\n",
       "    </tr>\n",
       "    <tr>\n",
       "      <th>1</th>\n",
       "      <td>fh_y</td>\n",
       "      <td>fa_n</td>\n",
       "      <td>cae_so</td>\n",
       "      <td>sm_y</td>\n",
       "      <td>sc_y</td>\n",
       "      <td>pu</td>\n",
       "      <td>nrm</td>\n",
       "    </tr>\n",
       "    <tr>\n",
       "      <th>2</th>\n",
       "      <td>fh_y</td>\n",
       "      <td>fa_n</td>\n",
       "      <td>cae_so</td>\n",
       "      <td>sm_n</td>\n",
       "      <td>sc_n</td>\n",
       "      <td>pu</td>\n",
       "      <td>nrm</td>\n",
       "    </tr>\n",
       "    <tr>\n",
       "      <th>3</th>\n",
       "      <td>fh_n</td>\n",
       "      <td>fa_n</td>\n",
       "      <td>cae_so</td>\n",
       "      <td>sm_n</td>\n",
       "      <td>sc_n</td>\n",
       "      <td>wa</td>\n",
       "      <td>ovr</td>\n",
       "    </tr>\n",
       "    <tr>\n",
       "      <th>4</th>\n",
       "      <td>fh_n</td>\n",
       "      <td>fa_n</td>\n",
       "      <td>cae_so</td>\n",
       "      <td>sm_n</td>\n",
       "      <td>sc_n</td>\n",
       "      <td>pu</td>\n",
       "      <td>ovr</td>\n",
       "    </tr>\n",
       "  </tbody>\n",
       "</table>\n",
       "</div>"
      ],
      "text/plain": [
       "  family_history_with_overweight  FAVC    CAEC SMOKE   SCC MTRANS NObeyesdad\n",
       "0                           fh_y  fa_n  cae_so  sm_n  sc_n     pu        nrm\n",
       "1                           fh_y  fa_n  cae_so  sm_y  sc_y     pu        nrm\n",
       "2                           fh_y  fa_n  cae_so  sm_n  sc_n     pu        nrm\n",
       "3                           fh_n  fa_n  cae_so  sm_n  sc_n     wa        ovr\n",
       "4                           fh_n  fa_n  cae_so  sm_n  sc_n     pu        ovr"
      ]
     },
     "execution_count": 177,
     "metadata": {},
     "output_type": "execute_result"
    }
   ],
   "source": [
    "sbsb.head()"
   ]
  },
  {
   "cell_type": "code",
   "execution_count": 178,
   "metadata": {},
   "outputs": [
    {
     "data": {
      "text/plain": [
       "(2111, 7)"
      ]
     },
     "execution_count": 178,
     "metadata": {},
     "output_type": "execute_result"
    }
   ],
   "source": [
    "# examine all 2111 rows for 7 predictors\n",
    "sbsb.shape"
   ]
  },
  {
   "cell_type": "code",
   "execution_count": 179,
   "metadata": {},
   "outputs": [],
   "source": [
    "# make sure no singleton hashes collide\n",
    "# there should be 21 singletons\n",
    "def checkSinglHashes():\n",
    "    tmp = list(filter((0).__ne__, bit_array_s)) # remove all indices with 0 from bit_array_s\n",
    "    if len(tmp) != len(singletons):\n",
    "        print(\"ERROR: singletons are being hashed to the same index.\")\n",
    "    else:\n",
    "        print(\"No hash collisions.\")\n",
    "        "
   ]
  },
  {
   "cell_type": "code",
   "execution_count": 180,
   "metadata": {},
   "outputs": [],
   "source": [
    "def getHashIndex(hash_object):\n",
    "    hash_hex = hash_object.hexdigest()\n",
    "    hash_int = int(hash_hex, 16)\n",
    "    hash_abs = abs(hash_int)\n",
    "    hash_index = hash_abs % len(bit_array_s)\n",
    "    return hash_index"
   ]
  },
  {
   "cell_type": "code",
   "execution_count": 181,
   "metadata": {},
   "outputs": [
    {
     "name": "stdout",
     "output_type": "stream",
     "text": [
      "item:nrm \t\tfrequency:287\n",
      "item:sm_n \t\tfrequency:2067\n",
      "item:fh_y \t\tfrequency:1726\n",
      "item:ob \t\tfrequency:972\n",
      "item:ovr \t\tfrequency:580\n",
      "item:pu \t\tfrequency:1580\n",
      "item:sc_n \t\tfrequency:2015\n",
      "item:fh_n \t\tfrequency:385\n",
      "item:ins \t\tfrequency:272\n",
      "item:au \t\tfrequency:457\n",
      "item:cae_fr \t\tfrequency:242\n",
      "item:fa_n \t\tfrequency:245\n",
      "item:cae_so \t\tfrequency:1765\n",
      "item:fa_y \t\tfrequency:1866\n"
     ]
    }
   ],
   "source": [
    "import hashlib\n",
    "\n",
    "bit_array_s = [0] * 10000  # bit array containing index of hashed singletons\n",
    "singletons = []\n",
    "frequent_singletons = []\n",
    "s = 200  # threshhold\n",
    "\n",
    "# populate singletons\n",
    "# hash singletons to bit_array_s\n",
    "# populate frequent_singletons\n",
    "for i in range(len(sbsb)):\n",
    "    basket = sbsb.loc[i] # get row \n",
    "    for j in range(len(basket)):\n",
    "        item = basket[j]\n",
    "        singletons.append(item)\n",
    "        hash_object = hashlib.md5(item.encode())\n",
    "        hash_index = getHashIndex(hash_object)\n",
    "        bit_array_s[hash_index] += 1\n",
    "        \n",
    "        if bit_array_s[hash_index] >= s:\n",
    "            frequent_singletons.append(item)\n",
    "\n",
    "# remove duplicates in singletons\n",
    "singletons = set(singletons) \n",
    "singletons = list(singletons)\n",
    "frequent_singletons = set(frequent_singletons) \n",
    "frequent_singletons = list(frequent_singletons)\n",
    "\n",
    "# print frequent singletons\n",
    "for sing in frequent_singletons:\n",
    "    hash_object = hashlib.md5(sing.encode())\n",
    "    hash_index = getHashIndex(hash_object)\n",
    "    print(\"item:%s \\t\\tfrequency:%s\" % (sing, bit_array_s[hash_index]))   \n",
    "    "
   ]
  },
  {
   "cell_type": "code",
   "execution_count": 182,
   "metadata": {},
   "outputs": [
    {
     "name": "stdout",
     "output_type": "stream",
     "text": [
      "No hash collisions.\n"
     ]
    }
   ],
   "source": [
    "# make sure no hashes collide\n",
    "checkSinglHashes()"
   ]
  },
  {
   "cell_type": "code",
   "execution_count": 183,
   "metadata": {
    "scrolled": true
   },
   "outputs": [
    {
     "name": "stdout",
     "output_type": "stream",
     "text": [
      "item:['nrm', 'sm_n'] \t\tfrequency:273\n",
      "item:['nrm', 'sc_n'] \t\tfrequency:256\n",
      "item:['nrm', 'fa_y'] \t\tfrequency:207\n",
      "item:['sm_n', 'fh_y'] \t\tfrequency:1687\n",
      "item:['sm_n', 'ob'] \t\tfrequency:949\n",
      "item:['sm_n', 'ovr'] \t\tfrequency:571\n",
      "item:['sm_n', 'pu'] \t\tfrequency:1549\n",
      "item:['sm_n', 'sc_n'] \t\tfrequency:1975\n",
      "item:['sm_n', 'fh_n'] \t\tfrequency:378\n",
      "item:['sm_n', 'ins'] \t\tfrequency:270\n",
      "item:['sm_n', 'au'] \t\tfrequency:445\n",
      "item:['sm_n', 'cae_fr'] \t\tfrequency:232\n",
      "item:['sm_n', 'fa_n'] \t\tfrequency:234\n",
      "item:['sm_n', 'cae_so'] \t\tfrequency:1733\n",
      "item:['sm_n', 'fa_y'] \t\tfrequency:1831\n",
      "item:['fh_y', 'ob'] \t\tfrequency:963\n",
      "item:['fh_y', 'ovr'] \t\tfrequency:480\n",
      "item:['fh_y', 'pu'] \t\tfrequency:1270\n",
      "item:['fh_y', 'sc_n'] \t\tfrequency:1678\n",
      "item:['fh_y', 'au'] \t\tfrequency:406\n",
      "item:['fh_y', 'cae_so'] \t\tfrequency:1545\n",
      "item:['fh_y', 'fa_y'] \t\tfrequency:1579\n",
      "item:['ob', 'pu'] \t\tfrequency:758\n",
      "item:['ob', 'sc_n'] \t\tfrequency:968\n",
      "item:['ob', 'au'] \t\tfrequency:205\n",
      "item:['ob', 'cae_so'] \t\tfrequency:953\n",
      "item:['ob', 'fa_y'] \t\tfrequency:952\n",
      "item:['ovr', 'pu'] \t\tfrequency:400\n",
      "item:['ovr', 'sc_n'] \t\tfrequency:538\n",
      "item:['ovr', 'cae_so'] \t\tfrequency:505\n",
      "item:['ovr', 'fa_y'] \t\tfrequency:483\n",
      "item:['pu', 'sc_n'] \t\tfrequency:1505\n",
      "item:['pu', 'fh_n'] \t\tfrequency:308\n",
      "item:['pu', 'ins'] \t\tfrequency:219\n",
      "item:['pu', 'cae_fr'] \t\tfrequency:200\n",
      "item:['pu', 'cae_so'] \t\tfrequency:1299\n",
      "item:['pu', 'fa_y'] \t\tfrequency:1404\n",
      "item:['sc_n', 'fh_n'] \t\tfrequency:335\n",
      "item:['sc_n', 'ins'] \t\tfrequency:249\n",
      "item:['sc_n', 'au'] \t\tfrequency:443\n",
      "item:['sc_n', 'cae_fr'] \t\tfrequency:214\n",
      "item:['sc_n', 'fa_n'] \t\tfrequency:206\n",
      "item:['sc_n', 'cae_so'] \t\tfrequency:1710\n",
      "item:['sc_n', 'fa_y'] \t\tfrequency:1807\n",
      "item:['fh_n', 'cae_so'] \t\tfrequency:218\n",
      "item:['fh_n', 'fa_y'] \t\tfrequency:285\n",
      "item:['ins', 'fa_y'] \t\tfrequency:220\n",
      "item:['au', 'cae_so'] \t\tfrequency:416\n",
      "item:['au', 'fa_y'] \t\tfrequency:419\n",
      "item:['cae_so', 'fa_y'] \t\tfrequency:1607\n"
     ]
    }
   ],
   "source": [
    "# examine doubletons\n",
    "\n",
    "doubletons = []\n",
    "frequent_doubletons = []\n",
    "\n",
    "# populate doubletons\n",
    "for i in range(len(frequent_singletons)):\n",
    "    for j in range(i + 1, len(frequent_singletons)):\n",
    "        doubletons.append([frequent_singletons[i], frequent_singletons[j]])\n",
    "        \n",
    "d_dict = {}\n",
    "d_index = 0\n",
    "d_array = []\n",
    "        \n",
    "# receives a doubleton\n",
    "# returns a concatenation of the strings in the doubleton\n",
    "def getConcatString(array):\n",
    "    string = \"\"\n",
    "    for item in d:\n",
    "        string += item  # concatenate words in doubleton, then hash them.  e.g., \"sc_nfh_n\"\n",
    "    return string    \n",
    "\n",
    "# populate frequent_doubletons\n",
    "for d in doubletons:\n",
    "    for i in range(len(sbsb)):\n",
    "        count = 0\n",
    "        basket = sbsb.loc[i] # get row \n",
    "        for item in basket:\n",
    "            if d[0] == item or d[1] == item:\n",
    "                count += 1\n",
    "        if count == 2:\n",
    "            string = getConcatString(d);\n",
    "            if None == d_dict.get(string):\n",
    "                d_dict.update({string : d_index})\n",
    "                d_array.append(0)\n",
    "                d_index += 1\n",
    "            else:\n",
    "                d_array[d_dict.get(string)] += 1\n",
    "                if d_array[d_dict.get(string)] >= s:\n",
    "                    if d not in frequent_doubletons:\n",
    "                        frequent_doubletons.append(d)\n",
    "\n",
    "# print frequent doubletons\n",
    "for d in frequent_doubletons:\n",
    "    string = getConcatString(d)\n",
    "    print(\"item:%s \\t\\tfrequency:%s\" % (d, d_array[d_dict.get(getConcatString(string))]))  "
   ]
  }
 ],
 "metadata": {
  "kernelspec": {
   "display_name": "Python 3",
   "language": "python",
   "name": "python3"
  },
  "language_info": {
   "codemirror_mode": {
    "name": "ipython",
    "version": 3
   },
   "file_extension": ".py",
   "mimetype": "text/x-python",
   "name": "python",
   "nbconvert_exporter": "python",
   "pygments_lexer": "ipython3",
   "version": "3.8.5"
  }
 },
 "nbformat": 4,
 "nbformat_minor": 4
}
